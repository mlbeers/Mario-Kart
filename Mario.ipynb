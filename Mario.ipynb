{
 "cells": [
  {
   "cell_type": "code",
   "execution_count": 2,
   "id": "4fdd9d26-8d99-49e8-b9b2-c456dd79acb3",
   "metadata": {
    "tags": []
   },
   "outputs": [],
   "source": [
    "import pandas as pd"
   ]
  },
  {
   "cell_type": "code",
   "execution_count": 3,
   "id": "ba36d2ac-08e4-4526-b43b-d94d27417a38",
   "metadata": {
    "tags": []
   },
   "outputs": [],
   "source": [
    "players = [\"Zemy\", \"Kyle\", \"Beers\", \"Holland\"]\n",
    "quads = [\"Quad 1\", \"Quad 2\", \"Quad 3\", \"Quad 4\"]"
   ]
  },
  {
   "cell_type": "code",
   "execution_count": 4,
   "id": "f015af03-fc0d-45e7-a1ce-376f2fa97f07",
   "metadata": {},
   "outputs": [],
   "source": [
    "df = pd.read_excel(\"Beerio.xlsx\", sheet_name = \"Placing\")"
   ]
  },
  {
   "cell_type": "code",
   "execution_count": 5,
   "id": "6e8a45f9-c900-40e6-915e-7acba594e051",
   "metadata": {
    "tags": []
   },
   "outputs": [],
   "source": [
    "num_mult = {2 : 0.90,\n",
    "            3 : 1.0, \n",
    "            4 : 1.1}"
   ]
  },
  {
   "cell_type": "code",
   "execution_count": 6,
   "id": "af82ffc7-7ed3-4452-8c00-e4bb6b68ebd7",
   "metadata": {
    "tags": []
   },
   "outputs": [],
   "source": [
    "df2 = df.copy()"
   ]
  },
  {
   "cell_type": "code",
   "execution_count": 7,
   "id": "f4f46a6f-fb32-442a-86ac-ad46459cf8d7",
   "metadata": {
    "tags": []
   },
   "outputs": [],
   "source": [
    "# Assuming df is your DataFrame\n",
    "for i in range(len(df)):\n",
    "    num_players = 0\n",
    "    for j, col in enumerate(df.columns):\n",
    "        # Skip if the value is NaN or the column is 'Match'\n",
    "        if pd.isna(df.iloc[i, j]) or col == \"Match\":\n",
    "            continue\n",
    "        else:\n",
    "            num_players += 1\n",
    "    for j, col in enumerate(df.columns):\n",
    "        # Skip if the value is NaN or the column is 'Match'\n",
    "        if pd.isna(df.iloc[i, j]) or col == \"Match\":\n",
    "            continue\n",
    "        else:\n",
    "            df2.iloc[i, j] = (13 - df.iloc[i, j])*num_mult[num_players]"
   ]
  },
  {
   "cell_type": "code",
   "execution_count": 8,
   "id": "a47054f1-2275-44af-91cf-74786ce31aee",
   "metadata": {
    "tags": []
   },
   "outputs": [],
   "source": [
    "averages = {}\n",
    "for player in players:\n",
    "    averages[player] = df2[player].mean()"
   ]
  },
  {
   "cell_type": "code",
   "execution_count": 9,
   "id": "496310ab-8140-4b96-8111-09caa5a96361",
   "metadata": {
    "tags": []
   },
   "outputs": [
    {
     "data": {
      "text/plain": [
       "{'Zemy': 11.200000000000001,\n",
       " 'Kyle': 8.916666666666666,\n",
       " 'Beers': 9.9,\n",
       " 'Holland': 10.616666666666667}"
      ]
     },
     "execution_count": 9,
     "metadata": {},
     "output_type": "execute_result"
    }
   ],
   "source": [
    "averages"
   ]
  },
  {
   "cell_type": "code",
   "execution_count": 10,
   "id": "0683d1e7-9547-4632-8e4d-88231825aa58",
   "metadata": {
    "tags": []
   },
   "outputs": [],
   "source": [
    "def quad_game(opp_avg):\n",
    "    if opp_avg >= 10.5:\n",
    "        return \"Quad 1\"\n",
    "    elif opp_avg >= 9:\n",
    "        return \"Quad 2\"\n",
    "    elif opp_avg >= 8:\n",
    "        return \"Quad 3\"\n",
    "    return \"Quad 4\""
   ]
  },
  {
   "cell_type": "code",
   "execution_count": 11,
   "id": "f736f14a-2dfd-4330-b4a2-3f8ae7b05916",
   "metadata": {
    "tags": []
   },
   "outputs": [],
   "source": [
    "Quad_data = {\"Player\" : players,\n",
    "           \"Quad 1\" : [0] * len(players),\n",
    "           \"Quad 2\" : [0] * len(players),\n",
    "           \"Quad 3\" : [0] * len(players),\n",
    "           \"Quad 4\" : [0] * len(players) }\n",
    "\n",
    "Quad_total = pd.DataFrame(Quad_data)\n",
    "Quad_total = Quad_total.set_index(\"Player\")\n",
    "\n",
    "Quad_matches = pd.DataFrame(Quad_data)\n",
    "Quad_matches = Quad_matches.set_index(\"Player\")\n",
    "\n",
    "Quad = pd.DataFrame(Quad_data)\n",
    "Quad = Quad.set_index(\"Player\")\n",
    "\n",
    "\n",
    "for player in players:\n",
    "    for i in range(len(df2)):\n",
    "        match_total = 0\n",
    "        count = 0\n",
    "        opp_avg = 0\n",
    "        if pd.isna(df2.loc[i,player]) == True:\n",
    "            continue\n",
    "        for opp in players:\n",
    "            if pd.isna(df2.loc[i,opp]) == False:\n",
    "                match_total += averages[opp]\n",
    "                count += 1\n",
    "        avg = match_total/count\n",
    "        quad = quad_game(avg)\n",
    "        Quad_total.loc[player, quad] += df2.loc[i, player]\n",
    "        Quad_matches.loc[player, quad] += 1\n",
    "for player in players:\n",
    "    for quad in quads:\n",
    "        if Quad_matches.loc[player, quad] == 0:\n",
    "            continue\n",
    "        Quad.loc[player, quad] = Quad_total.loc[player, quad]/Quad_matches.loc[player, quad]"
   ]
  },
  {
   "cell_type": "code",
   "execution_count": 12,
   "id": "0a9c25c7-71d3-465a-a755-c13fe70610b6",
   "metadata": {
    "tags": []
   },
   "outputs": [
    {
     "data": {
      "text/html": [
       "<div>\n",
       "<style scoped>\n",
       "    .dataframe tbody tr th:only-of-type {\n",
       "        vertical-align: middle;\n",
       "    }\n",
       "\n",
       "    .dataframe tbody tr th {\n",
       "        vertical-align: top;\n",
       "    }\n",
       "\n",
       "    .dataframe thead th {\n",
       "        text-align: right;\n",
       "    }\n",
       "</style>\n",
       "<table border=\"1\" class=\"dataframe\">\n",
       "  <thead>\n",
       "    <tr style=\"text-align: right;\">\n",
       "      <th></th>\n",
       "      <th>Quad 1</th>\n",
       "      <th>Quad 2</th>\n",
       "      <th>Quad 3</th>\n",
       "      <th>Quad 4</th>\n",
       "    </tr>\n",
       "    <tr>\n",
       "      <th>Player</th>\n",
       "      <th></th>\n",
       "      <th></th>\n",
       "      <th></th>\n",
       "      <th></th>\n",
       "    </tr>\n",
       "  </thead>\n",
       "  <tbody>\n",
       "    <tr>\n",
       "      <th>Zemy</th>\n",
       "      <td>0</td>\n",
       "      <td>67.2</td>\n",
       "      <td>0</td>\n",
       "      <td>0</td>\n",
       "    </tr>\n",
       "    <tr>\n",
       "      <th>Kyle</th>\n",
       "      <td>0</td>\n",
       "      <td>53.5</td>\n",
       "      <td>0</td>\n",
       "      <td>0</td>\n",
       "    </tr>\n",
       "    <tr>\n",
       "      <th>Beers</th>\n",
       "      <td>0</td>\n",
       "      <td>9.9</td>\n",
       "      <td>0</td>\n",
       "      <td>0</td>\n",
       "    </tr>\n",
       "    <tr>\n",
       "      <th>Holland</th>\n",
       "      <td>0</td>\n",
       "      <td>63.7</td>\n",
       "      <td>0</td>\n",
       "      <td>0</td>\n",
       "    </tr>\n",
       "  </tbody>\n",
       "</table>\n",
       "</div>"
      ],
      "text/plain": [
       "         Quad 1  Quad 2  Quad 3  Quad 4\n",
       "Player                                 \n",
       "Zemy          0    67.2       0       0\n",
       "Kyle          0    53.5       0       0\n",
       "Beers         0     9.9       0       0\n",
       "Holland       0    63.7       0       0"
      ]
     },
     "execution_count": 12,
     "metadata": {},
     "output_type": "execute_result"
    }
   ],
   "source": [
    "Quad_total"
   ]
  },
  {
   "cell_type": "code",
   "execution_count": 13,
   "id": "00dd15db-5471-47af-9c6f-f096034c73a7",
   "metadata": {
    "tags": []
   },
   "outputs": [
    {
     "data": {
      "text/html": [
       "<div>\n",
       "<style scoped>\n",
       "    .dataframe tbody tr th:only-of-type {\n",
       "        vertical-align: middle;\n",
       "    }\n",
       "\n",
       "    .dataframe tbody tr th {\n",
       "        vertical-align: top;\n",
       "    }\n",
       "\n",
       "    .dataframe thead th {\n",
       "        text-align: right;\n",
       "    }\n",
       "</style>\n",
       "<table border=\"1\" class=\"dataframe\">\n",
       "  <thead>\n",
       "    <tr style=\"text-align: right;\">\n",
       "      <th></th>\n",
       "      <th>Quad 1</th>\n",
       "      <th>Quad 2</th>\n",
       "      <th>Quad 3</th>\n",
       "      <th>Quad 4</th>\n",
       "    </tr>\n",
       "    <tr>\n",
       "      <th>Player</th>\n",
       "      <th></th>\n",
       "      <th></th>\n",
       "      <th></th>\n",
       "      <th></th>\n",
       "    </tr>\n",
       "  </thead>\n",
       "  <tbody>\n",
       "    <tr>\n",
       "      <th>Zemy</th>\n",
       "      <td>0</td>\n",
       "      <td>6</td>\n",
       "      <td>0</td>\n",
       "      <td>0</td>\n",
       "    </tr>\n",
       "    <tr>\n",
       "      <th>Kyle</th>\n",
       "      <td>0</td>\n",
       "      <td>6</td>\n",
       "      <td>0</td>\n",
       "      <td>0</td>\n",
       "    </tr>\n",
       "    <tr>\n",
       "      <th>Beers</th>\n",
       "      <td>0</td>\n",
       "      <td>1</td>\n",
       "      <td>0</td>\n",
       "      <td>0</td>\n",
       "    </tr>\n",
       "    <tr>\n",
       "      <th>Holland</th>\n",
       "      <td>0</td>\n",
       "      <td>6</td>\n",
       "      <td>0</td>\n",
       "      <td>0</td>\n",
       "    </tr>\n",
       "  </tbody>\n",
       "</table>\n",
       "</div>"
      ],
      "text/plain": [
       "         Quad 1  Quad 2  Quad 3  Quad 4\n",
       "Player                                 \n",
       "Zemy          0       6       0       0\n",
       "Kyle          0       6       0       0\n",
       "Beers         0       1       0       0\n",
       "Holland       0       6       0       0"
      ]
     },
     "execution_count": 13,
     "metadata": {},
     "output_type": "execute_result"
    }
   ],
   "source": [
    "Quad_matches"
   ]
  },
  {
   "cell_type": "code",
   "execution_count": 14,
   "id": "79b96bea-e54f-4600-9bd5-228b7f3ca4a7",
   "metadata": {
    "tags": []
   },
   "outputs": [
    {
     "data": {
      "text/html": [
       "<div>\n",
       "<style scoped>\n",
       "    .dataframe tbody tr th:only-of-type {\n",
       "        vertical-align: middle;\n",
       "    }\n",
       "\n",
       "    .dataframe tbody tr th {\n",
       "        vertical-align: top;\n",
       "    }\n",
       "\n",
       "    .dataframe thead th {\n",
       "        text-align: right;\n",
       "    }\n",
       "</style>\n",
       "<table border=\"1\" class=\"dataframe\">\n",
       "  <thead>\n",
       "    <tr style=\"text-align: right;\">\n",
       "      <th></th>\n",
       "      <th>Quad 1</th>\n",
       "      <th>Quad 2</th>\n",
       "      <th>Quad 3</th>\n",
       "      <th>Quad 4</th>\n",
       "    </tr>\n",
       "    <tr>\n",
       "      <th>Player</th>\n",
       "      <th></th>\n",
       "      <th></th>\n",
       "      <th></th>\n",
       "      <th></th>\n",
       "    </tr>\n",
       "  </thead>\n",
       "  <tbody>\n",
       "    <tr>\n",
       "      <th>Zemy</th>\n",
       "      <td>0</td>\n",
       "      <td>11.200000</td>\n",
       "      <td>0</td>\n",
       "      <td>0</td>\n",
       "    </tr>\n",
       "    <tr>\n",
       "      <th>Kyle</th>\n",
       "      <td>0</td>\n",
       "      <td>8.916667</td>\n",
       "      <td>0</td>\n",
       "      <td>0</td>\n",
       "    </tr>\n",
       "    <tr>\n",
       "      <th>Beers</th>\n",
       "      <td>0</td>\n",
       "      <td>9.900000</td>\n",
       "      <td>0</td>\n",
       "      <td>0</td>\n",
       "    </tr>\n",
       "    <tr>\n",
       "      <th>Holland</th>\n",
       "      <td>0</td>\n",
       "      <td>10.616667</td>\n",
       "      <td>0</td>\n",
       "      <td>0</td>\n",
       "    </tr>\n",
       "  </tbody>\n",
       "</table>\n",
       "</div>"
      ],
      "text/plain": [
       "         Quad 1     Quad 2  Quad 3  Quad 4\n",
       "Player                                    \n",
       "Zemy          0  11.200000       0       0\n",
       "Kyle          0   8.916667       0       0\n",
       "Beers         0   9.900000       0       0\n",
       "Holland       0  10.616667       0       0"
      ]
     },
     "execution_count": 14,
     "metadata": {},
     "output_type": "execute_result"
    }
   ],
   "source": [
    "Quad"
   ]
  },
  {
   "cell_type": "code",
   "execution_count": null,
   "id": "ed74a8c2-b23b-4032-acc9-14e4d7b99056",
   "metadata": {},
   "outputs": [],
   "source": []
  }
 ],
 "metadata": {
  "kernelspec": {
   "display_name": "Python 3 (ipykernel)",
   "language": "python",
   "name": "python3"
  },
  "language_info": {
   "codemirror_mode": {
    "name": "ipython",
    "version": 3
   },
   "file_extension": ".py",
   "mimetype": "text/x-python",
   "name": "python",
   "nbconvert_exporter": "python",
   "pygments_lexer": "ipython3",
   "version": "3.11.4"
  }
 },
 "nbformat": 4,
 "nbformat_minor": 5
}
